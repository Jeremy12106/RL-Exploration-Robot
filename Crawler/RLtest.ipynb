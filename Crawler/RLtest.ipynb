{
 "cells": [
  {
   "cell_type": "code",
   "execution_count": null,
   "metadata": {},
   "outputs": [],
   "source": [
    "from stable_baselines3 import PPO\n",
    "from CrawlerEnv import CrawlerEnv\n",
    "\n",
    "# 創建環境實例\n",
    "env = CrawlerEnv(show=False)\n",
    "\n",
    "# 設定模型超參數\n",
    "model_params = {\n",
    "    \"policy\": \"CnnPolicy\",  # 使用卷積神經網路(CNN)作為策略網路\n",
    "    \"env\": env,  # 指定要訓練的環境\n",
    "    \"verbose\": 2,  # 設定訊息輸出級別為1,輸出基本訊息\n",
    "    \"learning_rate\": 2.5e-4,  # 設定學習率為2.5e-4\n",
    "    \"n_steps\": 2048,  # 每次更新使用的步數設為2048\n",
    "    \"batch_size\": 64,  # 設定批次大小為64\n",
    "    \"n_epochs\": 10,  # 每次更新的訓練迭代次數設為10\n",
    "    \"gamma\": 0.99,  # 設定折扣因子為0.99\n",
    "    \"gae_lambda\": 0.95,  # 設定GAE參數為0.95\n",
    "    \"clip_range\": 0.2,  # 設定PPO的限制範圍為0.2\n",
    "    \"ent_coef\": 0.01,  # 設定交叉熵損失係數為0.01\n",
    "    \"vf_coef\": 0.5,  # 設定值函數損失係數為0.5\n",
    "    \"max_grad_norm\": 0.5,  # 設定梯度剪裁的最大範數為0.5\n",
    "    \"use_sde\": False,  # 啟用隨機微分方程(SDE)\n",
    "    \"sde_sample_freq\": 4,  # 設定SDE的採樣頻率為4\n",
    "    \"target_kl\": 0.03,  # 設定目標KL散度為0.03\n",
    "    \"tensorboard_log\": \"./logs/\",  # 設定TensorBoard日誌的儲存路徑\n",
    "}\n",
    "\n",
    "# 創建PPO模型,並傳入設定的超參數\n",
    "model = PPO(**model_params)\n",
    "\n",
    "# 設定訓練的總時間步數\n",
    "total_timesteps = 1000000\n",
    "\n",
    "# 設定檢查點的間隔時間步數\n",
    "checkpoint_interval = 50000\n",
    "\n",
    "# 設定評估的頻率(以時間步數為單位)\n",
    "eval_freq = 10000\n",
    "\n",
    "# 開始訓練\n",
    "for i in range(int(total_timesteps / checkpoint_interval)):\n",
    "    # 訓練一個checkpoint_interval的時間步數\n",
    "    model.learn(total_timesteps=checkpoint_interval, reset_num_timesteps=False, tb_log_name=\"PPO\")\n",
    "    \n",
    "    # 儲存訓練得到的模型\n",
    "    model.save(f\"models/ppo_crawler_{(i+1)*checkpoint_interval}\")\n",
    "# 訓練完成\n",
    "print(\"Training completed!\")"
   ]
  },
  {
   "cell_type": "code",
   "execution_count": null,
   "metadata": {},
   "outputs": [],
   "source": [
    "# from stable_baselines3 import PPO\n",
    "# from CrawlerEnv import CrawlerEnv\n",
    "# # 創建環境實例\n",
    "# env = CrawlerEnv()\n",
    "# for episode in range(20):\n",
    "#     obs = env.reset()\n",
    "#     done = False\n",
    "#     while not done:\n",
    "#         action = 30\n",
    "#         obs, reward, done, _ = env.step(action)\n",
    "#         print(reward, done)\n",
    "#         # 進行訓練邏輯"
   ]
  }
 ],
 "metadata": {
  "kernelspec": {
   "display_name": "mlagents",
   "language": "python",
   "name": "python3"
  },
  "language_info": {
   "codemirror_mode": {
    "name": "ipython",
    "version": 3
   },
   "file_extension": ".py",
   "mimetype": "text/x-python",
   "name": "python",
   "nbconvert_exporter": "python",
   "pygments_lexer": "ipython3",
   "version": "3.10.12"
  }
 },
 "nbformat": 4,
 "nbformat_minor": 2
}
